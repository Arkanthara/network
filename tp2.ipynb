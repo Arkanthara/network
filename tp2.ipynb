{
 "cells": [
  {
   "cell_type": "markdown",
   "metadata": {},
   "source": [
    "# S\u00e9rie 1"
   ]
  },
  {
   "cell_type": "markdown",
   "metadata": {},
   "source": [
    "## Programme"
   ]
  },
  {
   "cell_type": "markdown",
   "metadata": {},
   "source": [
    "\u00c9crivez un programme simulant l'automate du cours p22"
   ]
  },
  {
   "cell_type": "code",
   "execution_count": 24,
   "metadata": {},
   "source": [
    "import numpy as np\n",
    "import random\n",
    "\n",
    "def markov(e: int, nb_sim: int) -> list[int]:\n",
    "    current = 0\n",
    "    result = []\n",
    "    result.append(current)\n",
    "    for i in np.arange(nb_sim):\n",
    "        if (random.random() < e):\n",
    "            current += 1\n",
    "        else:\n",
    "            current = 0\n",
    "        result.append(current)\n",
    "    return result\n",
    "    \n",
    "simulation = markov(0.5, 1000)\n",
    "print(simulation.count(4)/len(simulation))"
   ],
   "outputs": [
    {
     "name": "stdout",
     "output_type": "stream",
     "text": [
      "0.030969030969030968\n"
     ]
    }
   ]
  },
  {
   "cell_type": "markdown",
   "metadata": {},
   "source": [
    "On a notre matrice P qui sera \u00e9gale \u00e0:"
   ]
  },
  {
   "cell_type": "markdown",
   "metadata": {},
   "source": []
  }
 ],
 "metadata": {
  "kernelspec": {
   "display_name": "Python 3",
   "language": "python",
   "name": "python3"
  },
  "language_info": {
   "file_extension": ".py",
   "mimetype": "text/x-python",
   "name": "python",
   "version": "3.9.2"
  }
 },
 "nbformat": 4,
 "nbformat_minor": 4
}
